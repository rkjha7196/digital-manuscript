{
 "cells": [
  {
   "cell_type": "code",
   "execution_count": 1,
   "id": "f012ab8e",
   "metadata": {},
   "outputs": [],
   "source": [
    "#Q1\n",
    "'''A class is something that provides structure or body for creating multiple instances which has \n",
    "same properties and attributes.\n",
    "Whereas an object is an instance of that class and has properties and attributes of that class'''\n",
    "class Car:\n",
    "    def __init__(self, make, model, color):\n",
    "        self.make = make\n",
    "        self.model = model\n",
    "        self.color = color\n",
    "    \n",
    "    def start_engine(self):\n",
    "        print(\"Engine started!\")\n",
    "    \n",
    "    def accelerate(self):\n",
    "        print(\"Car is accelerating...\")\n",
    "\n",
    "car1 = Car(\"Toyota\", \"Corolla\", \"Blue\")\n",
    "car2 = Car(\"Honda\", \"Civic\", \"Red\")"
   ]
  },
  {
   "cell_type": "code",
   "execution_count": 2,
   "id": "bd8e3f13",
   "metadata": {},
   "outputs": [
    {
     "data": {
      "text/plain": [
       "'The four pillars of OOPs are:\\n   1. Inheritence\\n   2. Encapsulation\\n   3. Polymorphism\\n   4. Abstraction'"
      ]
     },
     "execution_count": 2,
     "metadata": {},
     "output_type": "execute_result"
    }
   ],
   "source": [
    "#Q2\n",
    "'''The four pillars of OOPs are:\n",
    "   1. Inheritence\n",
    "   2. Encapsulation\n",
    "   3. Polymorphism\n",
    "   4. Abstraction'''"
   ]
  },
  {
   "cell_type": "code",
   "execution_count": 4,
   "id": "cad5c9db",
   "metadata": {},
   "outputs": [],
   "source": [
    "#Q3\n",
    "'''The __init__() function, also known as the constructor, is a special method in Python classes.\n",
    "It is automatically called when an object is created from a class. The purpose of the __init__()\n",
    "function is to initialize the attributes (data) of the object to their initial values.'''\n",
    "class Person:\n",
    "    def __init__(self, name, age):\n",
    "        self.name = name\n",
    "        self.age = age\n",
    "    \n",
    "    def display_info(self):\n",
    "        print(f\"Name: {self.name}, Age: {self.age}\")"
   ]
  },
  {
   "cell_type": "code",
   "execution_count": 5,
   "id": "71c0fcd0",
   "metadata": {},
   "outputs": [
    {
     "data": {
      "text/plain": [
       "'When a method is defined within a class, the first parameter is always self, which \\nrepresents the instance on which the method is invoked. By convention, self is used \\nas the name for this parameter'"
      ]
     },
     "execution_count": 5,
     "metadata": {},
     "output_type": "execute_result"
    }
   ],
   "source": [
    "#Q4\n",
    "'''When a method is defined within a class, the first parameter is always self, which \n",
    "represents the instance on which the method is invoked. By convention, self is used \n",
    "as the name for this parameter'''"
   ]
  },
  {
   "cell_type": "code",
   "execution_count": null,
   "id": "ff2db0b6",
   "metadata": {},
   "outputs": [],
   "source": [
    "#Q5\n",
    "'''Inheritance is a fundamental concept in object-oriented programming (OOP) that allows\n",
    "creating new classes (derived classes) from existing classes (base classes). The derived\n",
    "classes inherit the attributes and methods of the base class, enabling code reuse and \n",
    "establishing an \"is-a\" relationship between classes.\n",
    "There are five types of inheritance commonly discussed in object-oriented programming:\n",
    "\n",
    "Single Inheritance: In single inheritance, a derived class inherits from a single base class.\n",
    "\n",
    "Multiple Inheritance: In multiple inheritance, a derived class inherits from multiple base \n",
    "classes. This allows the derived class to inherit attributes and methods from multiple sources.\n",
    "\n",
    "Multilevel Inheritance: In multilevel inheritance, a derived class becomes the base class\n",
    "for another derived class. This creates a chain of inheritance where each derived class \n",
    "inherits from the class above it.\n",
    "\n",
    "Hierarchical Inheritance: In hierarchical inheritance, multiple derived classes inherit\n",
    "from a single base class. This means that the base class serves as the parent class \n",
    "for multiple derived classes.\n",
    "\n",
    "Hybrid Inheritance: Hybrid inheritance refers to a combination of different types \n",
    "of inheritance. It typically involves multiple inheritance along with multilevel \n",
    "or hierarchical inheritance.'''\n"
   ]
  }
 ],
 "metadata": {
  "kernelspec": {
   "display_name": "Python 3 (ipykernel)",
   "language": "python",
   "name": "python3"
  },
  "language_info": {
   "codemirror_mode": {
    "name": "ipython",
    "version": 3
   },
   "file_extension": ".py",
   "mimetype": "text/x-python",
   "name": "python",
   "nbconvert_exporter": "python",
   "pygments_lexer": "ipython3",
   "version": "3.10.6"
  }
 },
 "nbformat": 4,
 "nbformat_minor": 5
}
