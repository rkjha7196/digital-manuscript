{
 "cells": [
  {
   "cell_type": "code",
   "execution_count": 2,
   "id": "6b637407-18b7-4e5c-bbc7-e20f34e17ebf",
   "metadata": {},
   "outputs": [
    {
     "data": {
      "text/plain": [
       "0     4\n",
       "1     8\n",
       "2    15\n",
       "3    16\n",
       "4    23\n",
       "5    42\n",
       "dtype: int64"
      ]
     },
     "execution_count": 2,
     "metadata": {},
     "output_type": "execute_result"
    }
   ],
   "source": [
    "#Q1\n",
    "list1 = [4,8,15,16,23,42]\n",
    "import pandas as pd\n",
    "pd.Series(data = list1)"
   ]
  },
  {
   "cell_type": "code",
   "execution_count": 12,
   "id": "eeadd1ee-3989-4c1a-862f-f37a40a87a28",
   "metadata": {},
   "outputs": [
    {
     "name": "stdout",
     "output_type": "stream",
     "text": [
      "0     2\n",
      "1     4\n",
      "2     5\n",
      "3     7\n",
      "4     8\n",
      "5    12\n",
      "6    14\n",
      "7    15\n",
      "8     7\n",
      "9     9\n",
      "dtype: int64\n"
     ]
    },
    {
     "data": {
      "text/plain": [
       "pandas.core.series.Series"
      ]
     },
     "execution_count": 12,
     "metadata": {},
     "output_type": "execute_result"
    }
   ],
   "source": [
    "#Q2\n",
    "var1=[2,4,5,7,8,12,14,15,7,9]\n",
    "sr1 = pd.Series(var1)\n",
    "print(sr1)\n",
    "type(sr1)\n"
   ]
  },
  {
   "cell_type": "code",
   "execution_count": 13,
   "id": "4355ec6f-0cec-42b5-8754-434183c325df",
   "metadata": {},
   "outputs": [
    {
     "name": "stdout",
     "output_type": "stream",
     "text": [
      "     Name  Age  Gender\n",
      "0   Alice   25  Female\n",
      "1     Bob   30    Male\n",
      "2  Claire   27  Female\n"
     ]
    },
    {
     "data": {
      "text/plain": [
       "pandas.core.frame.DataFrame"
      ]
     },
     "execution_count": 13,
     "metadata": {},
     "output_type": "execute_result"
    }
   ],
   "source": [
    "#Q3\n",
    "dict1 = {'Name':['Alice','Bob','Claire'],'Age':[25,30,27],'Gender':['Female','Male','Female']}\n",
    "df1=pd.DataFrame(dict1)\n",
    "print(df1)\n",
    "type(df1)"
   ]
  },
  {
   "cell_type": "code",
   "execution_count": null,
   "id": "6192a992-7a71-4c01-a79e-de610a1e5ab2",
   "metadata": {},
   "outputs": [],
   "source": [
    "#Q4\n",
    "'''Dataframe is a two dimensional mutable tabular data structure with multiple indexed rows and columns.\n",
    "   In pandas series we cannot deal with multiple coulmns which is possible in dataframe. Also they both \n",
    "   belongs to the different classes series and dataframe respectively.\n",
    "   The above example sr1 and df1 can be used.'''\n",
    "  "
   ]
  },
  {
   "cell_type": "code",
   "execution_count": null,
   "id": "46597799-4205-499a-8402-702c88a05398",
   "metadata": {},
   "outputs": [],
   "source": [
    "#Q5\n",
    "'''The different functions in a dataframe are: head, tail, columns, shape, size, info, read etc.'''"
   ]
  }
 ],
 "metadata": {
  "kernelspec": {
   "display_name": "Python 3 (ipykernel)",
   "language": "python",
   "name": "python3"
  },
  "language_info": {
   "codemirror_mode": {
    "name": "ipython",
    "version": 3
   },
   "file_extension": ".py",
   "mimetype": "text/x-python",
   "name": "python",
   "nbconvert_exporter": "python",
   "pygments_lexer": "ipython3",
   "version": "3.10.8"
  }
 },
 "nbformat": 4,
 "nbformat_minor": 5
}
