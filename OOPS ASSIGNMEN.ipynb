{
 "cells": [
  {
   "cell_type": "code",
   "execution_count": 14,
   "id": "1462b03e",
   "metadata": {},
   "outputs": [
    {
     "name": "stdout",
     "output_type": "stream",
     "text": [
      "Value of 10 dollar in rupees is 850\n",
      "Value of 1000 yen in rupees is 750.0\n"
     ]
    }
   ],
   "source": [
    "#Q1\n",
    "'''Abstarction is a method by which we create a skeleton or pamphlet of basic methods and functions\n",
    "that we are going to use rather going into the details of it. This hepls in focusing more on\n",
    "functionality of an object rather than its internal implementation '''\n",
    "\n",
    "class currency():\n",
    "    @abstractmethod\n",
    "    def value_in_rupees(self):\n",
    "        pass\n",
    "class dollar(currency):\n",
    "    def __init__(self, amount):\n",
    "        self.amount = amount\n",
    "    def value_in_rupees(self):\n",
    "        return 85*self.amount\n",
    "        \n",
    "class yen(currency):\n",
    "    def __init__(self, amount):\n",
    "        self.amount = amount\n",
    "    def value_in_rupees(self):\n",
    "        return 0.75*self.amount\n",
    "\n",
    "Dollar = dollar(10)\n",
    "print('Value of 10 dollar in rupees is',Dollar.value_in_rupees())\n",
    "Yen = yen(1000)\n",
    "print('Value of 1000 yen in rupees is',Yen.value_in_rupees())\n",
    "    \n",
    "  \n",
    "\n"
   ]
  },
  {
   "cell_type": "code",
   "execution_count": 15,
   "id": "bd95d72a",
   "metadata": {},
   "outputs": [
    {
     "data": {
      "text/plain": [
       "'Example for encapsulation, a bank account class may encapsulate the account balance and \\nprovide methods to deposit, withdraw, or check the balance, while keeping the balance \\nitself hidden from direct external access.'"
      ]
     },
     "execution_count": 15,
     "metadata": {},
     "output_type": "execute_result"
    }
   ],
   "source": [
    "#Q2\n",
    "'''The main difference between abstraction and encapsulation is that abstraction is used for hiding\n",
    "the complex details and showing only the relevant functionality making it simple for users t use\n",
    "while encapsulation is binding the differnet methods and datas together to protect its internal \n",
    "implication from unauthgorised access'''\n",
    "'''Example for abstraction, a remote control for a television abstracts the complex internal workings\n",
    "of the TV, allowing users to perform actions such as changing channels or adjusting the \n",
    "volume without needing to understand how these actions are implemented.'''\n",
    "'''Example for encapsulation, a bank account class may encapsulate the account balance and \n",
    "provide methods to deposit, withdraw, or check the balance, while keeping the balance \n",
    "itself hidden from direct external access.'''\n"
   ]
  },
  {
   "cell_type": "code",
   "execution_count": 16,
   "id": "4a1b6c4e",
   "metadata": {},
   "outputs": [
    {
     "data": {
      "text/plain": [
       "'The abc module in Python stands for \"Abstract Base Classes.\" It provides infrastructure\\nfor defining abstract base classes in Python. Abstract base classes are classes that define\\na common interface for a group of related classes.\\nAbstract base classes help in promoting code reuse, providing a common interface for a group\\nof classes, and enforcing a consistent structure across subclasses. '"
      ]
     },
     "execution_count": 16,
     "metadata": {},
     "output_type": "execute_result"
    }
   ],
   "source": [
    "#Q3\n",
    "'''The abc module in Python stands for \"Abstract Base Classes.\" It provides infrastructure\n",
    "for defining abstract base classes in Python. Abstract base classes are classes that define\n",
    "a common interface for a group of related classes.\n",
    "Abstract base classes help in promoting code reuse, providing a common interface for a group\n",
    "of classes, and enforcing a consistent structure across subclasses. '''\n"
   ]
  },
  {
   "cell_type": "code",
   "execution_count": 17,
   "id": "54aafa71",
   "metadata": {},
   "outputs": [
    {
     "data": {
      "text/plain": [
       "'Data abstraction can be achieved in object-oriented programming through the use of classes,\\nobjects, and access modifiers.\\n\\nClasses: Create a class that represents an abstract entity or concept, focusing on its \\nessential characteristics and behaviors rather than its internal details. \\nDefine methods and properties that allow interaction with the object.\\n\\nObjects: Instantiate objects from the class and use them to interact with the abstract entity.\\nThe objects provide an interface to work with the data and behavior defined in the class.\\n\\nAccess Modifiers: Use access modifiers such as public, private, and protected to \\ncontrol the visibility and accessibility of the class members'"
      ]
     },
     "execution_count": 17,
     "metadata": {},
     "output_type": "execute_result"
    }
   ],
   "source": [
    "#Q4\n",
    "'''Data abstraction can be achieved in object-oriented programming through the use of classes,\n",
    "objects, and access modifiers.\n",
    "\n",
    "Classes: Create a class that represents an abstract entity or concept, focusing on its \n",
    "essential characteristics and behaviors rather than its internal details. \n",
    "Define methods and properties that allow interaction with the object.\n",
    "\n",
    "Objects: Instantiate objects from the class and use them to interact with the abstract entity.\n",
    "The objects provide an interface to work with the data and behavior defined in the class.\n",
    "\n",
    "Access Modifiers: Use access modifiers such as public, private, and protected to \n",
    "control the visibility and accessibility of the class members'''"
   ]
  },
  {
   "cell_type": "code",
   "execution_count": null,
   "id": "3f76be69",
   "metadata": {},
   "outputs": [],
   "source": [
    "#Q5\n",
    "'''An abstract class is a class that is meant to be subclassed and serves as a blueprint \n",
    "for other classes. It is designed to be incomplete on its own and contains one or more \n",
    "abstract methods, which are methods without an implementation. Abstract classes are defined\n",
    "using the abc module in Python.'''"
   ]
  }
 ],
 "metadata": {
  "kernelspec": {
   "display_name": "Python 3 (ipykernel)",
   "language": "python",
   "name": "python3"
  },
  "language_info": {
   "codemirror_mode": {
    "name": "ipython",
    "version": 3
   },
   "file_extension": ".py",
   "mimetype": "text/x-python",
   "name": "python",
   "nbconvert_exporter": "python",
   "pygments_lexer": "ipython3",
   "version": "3.10.6"
  }
 },
 "nbformat": 4,
 "nbformat_minor": 5
}
